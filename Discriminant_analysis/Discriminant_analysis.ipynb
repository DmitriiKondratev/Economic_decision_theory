{
 "cells": [
  {
   "cell_type": "markdown",
   "metadata": {},
   "source": [
    "# Дискриминантный анализ"
   ]
  },
  {
   "cell_type": "code",
   "execution_count": 506,
   "metadata": {},
   "outputs": [],
   "source": [
    "import numpy as np\n",
    "import math\n",
    "import itertools\n",
    "import scipy.stats\n",
    "import matplotlib.pyplot as plt"
   ]
  },
  {
   "cell_type": "markdown",
   "metadata": {},
   "source": [
    "## Постановка задачи\n",
    "Построить и протестировать классификатор с использованием:\n",
    "- модельных данных;\n",
    "- данных из репозитория (https://archive.ics.uci.edu/ml/machine-learning-databases/statlog/german/)."
   ]
  },
  {
   "cell_type": "code",
   "execution_count": null,
   "metadata": {},
   "outputs": [],
   "source": [
    "def get_estimation_mu(D):\n",
    "    return [sum(D[i])/len(D[i]) for i in range(len(D))]\n",
    "\n",
    "def get_estimation_sigma(D, estimation_mu, n):\n",
    "    dim = len(estimation_mu[0])\n",
    "    deltas = [D[i]-estimation_mu[i] for i in range(len(D))]\n",
    "    indexes = list(itertools.combinations_with_replacement(range(len(D[0][0])), 2))\n",
    "    \n",
    "    estimation_sigma = []\n",
    "    for j in range(len(n)):\n",
    "        tmp = np.zeros((dim, dim))\n",
    "        for i in indexes:\n",
    "            s = [deltas[j][k][i[0]]*deltas[j][k][i[1]] for k in range(n[j])]\n",
    "            tmp[i] = sum(s)\n",
    "        estimation_sigma.append(tmp - np.eye(dim) * tmp + tmp.T)\n",
    "    return sum(estimation_sigma)/(sum(n)-2)\n",
    "\n",
    "def get_alpha(mu, sigma):\n",
    "    return np.dot(np.linalg.inv(sigma), mu[0]-mu[1])\n",
    "\n",
    "def get_split_value(z, q):\n",
    "    return z.mean() + math.log(q[1]/q[0])\n",
    "\n",
    "def get_Mahalanobis_distance_estimate(z, s_z, n, p):\n",
    "    D = (z[0]-z[1])*(z[0]-z[1])/s_z\n",
    "    D_H = (sum(n)-p-3)/(sum(n)-2)*D - p*sum(n)/(n[0]*n[1])\n",
    "    return D, D_H\n",
    "\n",
    "def get_misclassification_probabilities(D_H, q):\n",
    "    K = math.log(q[1]/q[0])\n",
    "    p_2_1 = scipy.stats.norm.cdf((K - D_H/2) / math.sqrt(D_H))\n",
    "    p_1_2 = scipy.stats.norm.cdf(-(K + D_H/2) / math.sqrt(D_H))\n",
    "    return p_2_1, p_1_2"
   ]
  },
  {
   "cell_type": "code",
   "execution_count": 524,
   "metadata": {},
   "outputs": [],
   "source": [
    "def classify(X, a, split_value):\n",
    "    c = np.dot(X, a)\n",
    "    mask = c >= split_value\n",
    "    res = [[],[]]\n",
    "    for i in range(len(mask)):\n",
    "        if mask[i]:\n",
    "            res[0].append(i)\n",
    "        else:\n",
    "            res[1].append(i) \n",
    "    return res\n",
    "\n",
    "def do_research(mu, sigma, D, X, y, n):\n",
    "    q = [n[i]/sum(n) for i in range(len(n))]\n",
    "    alpha = get_alpha(mu, sigma)\n",
    "    \n",
    "    z = np.array([np.dot(D[i], alpha).mean() for i in range(len(n))])\n",
    "    s_z = np.dot(np.dot(alpha, sigma), alpha)\n",
    "    d, d_H = get_Mahalanobis_distance_estimate(z, s_z, n, len(D[0][0]))\n",
    "    \n",
    "    split_value = get_split_value(z, q)\n",
    "    \n",
    "    res = classify(X, alpha, split_value)    \n",
    "    table_X = np.zeros((2,2))\n",
    "    table_X[0][1] = sum(y[res[0]] == 1)\n",
    "    table_X[0][0] = len(res[0]) - table_X[0][1]\n",
    "    table_X[1][0] = sum(y[res[1]] == 0)\n",
    "    table_X[1][1] = len(res[1]) - table_X[1][0]\n",
    "    \n",
    "    tmp = np.vstack((D[0], D[1]))\n",
    "    \n",
    "    res = classify(tmp, alpha, split_value)\n",
    "    table_D = np.zeros((2,2))\n",
    "    table_D[0][1] = sum(np.array(res[0]) >= n[0])\n",
    "    table_D[0][0] = len(res[0]) - table_D[0][1]\n",
    "    table_D[1][0] = sum(np.array(res[1]) < n[0])\n",
    "    table_D[1][1] = len(res[1]) - table_D[1][0]\n",
    "    \n",
    "    p = get_misclassification_probabilities(d_H, q)\n",
    "    \n",
    "    return table_X, table_D, p"
   ]
  },
  {
   "cell_type": "markdown",
   "metadata": {},
   "source": [
    "### Классификатор с использованием модельных данных"
   ]
  },
  {
   "cell_type": "code",
   "execution_count": 537,
   "metadata": {},
   "outputs": [],
   "source": [
    "def generate_data(mu, sigma, n, N):\n",
    "    D = []\n",
    "    for i in range(len(n)):\n",
    "        vec = np.random.multivariate_normal(mu[i], sigma, n[i])\n",
    "        D.append(vec)\n",
    "\n",
    "    X, y = [], []\n",
    "    for i in range(N):\n",
    "        j = np.random.randint(0, 2)\n",
    "        vec = np.random.multivariate_normal(mu[j], sigma, 1)\n",
    "        X.append(vec[0])\n",
    "        y.append(j)\n",
    "\n",
    "    return D, np.array(X), np.array(y)"
   ]
  },
  {
   "cell_type": "code",
   "execution_count": 569,
   "metadata": {},
   "outputs": [
    {
     "name": "stdout",
     "output_type": "stream",
     "text": [
      "Table for X:\n",
      " [[461.  30.]\n",
      " [ 20. 489.]]\n",
      "Table for D:\n",
      " [[243.   7.]\n",
      " [  7. 243.]]\n",
      "P = (0.032963389469100976, 0.032963389469100976)\n",
      "\n",
      "Table for X:\n",
      " [[463.  27.]\n",
      " [ 18. 492.]]\n",
      "Table for D:\n",
      " [[242.   5.]\n",
      " [  8. 245.]]\n",
      "P = (0.030231350156609996, 0.030231350156609996)\n"
     ]
    }
   ],
   "source": [
    "n = [250, 250]\n",
    "N = 1000\n",
    "mu = np.array([[-1, -1, -1,],\n",
    "               [1, 1, 1]])\n",
    "sigma = [[1,0,0],\n",
    "         [0,1,0],\n",
    "         [0,0,1]]\n",
    "\n",
    "np.random.seed(42)\n",
    "D, X, y = generate_data(mu, sigma, n, N)\n",
    "\n",
    "table_X, table_D, p = do_research(mu, sigma, D, X, y, n)\n",
    "print('Table for X:\\n', table_X)\n",
    "print('Table for D:\\n', table_D)\n",
    "print('P =', p)\n",
    "\n",
    "print()\n",
    "estimation_mu = get_estimation_mu(D)\n",
    "estimation_sigma = get_estimation_sigma(D, estimation_mu, n)\n",
    "\n",
    "table_X, table_D, p = do_research(estimation_mu, estimation_sigma, D, X, y, n)\n",
    "print('Table for X:\\n', table_X)\n",
    "print('Table for D:\\n', table_D)\n",
    "print('P =', p)"
   ]
  },
  {
   "cell_type": "markdown",
   "metadata": {},
   "source": [
    "### Классификатор с использованием данных из репозитория"
   ]
  },
  {
   "cell_type": "code",
   "execution_count": 607,
   "metadata": {},
   "outputs": [],
   "source": [
    "def load_data():\n",
    "    f = open('data\\german.data-numeric', 'r')\n",
    "    data = []\n",
    "    for line in f:\n",
    "        vec = list(map(int, line.split()))\n",
    "        data.append(vec)\n",
    "    f.close()\n",
    "    \n",
    "    return np.array(data)\n",
    "\n",
    "def sort_data(data, k):\n",
    "    indexes_D = list(np.random.choice(len(data), k, replace=False))\n",
    "    indexes_X = list(set(range(len(data))) - set(indexes_D))\n",
    "    \n",
    "    D = [[],[]]\n",
    "    for elem in data[indexes_D]:\n",
    "        if elem[-1] == 1:\n",
    "            D[0].append(elem[0:-1])\n",
    "        else:\n",
    "            D[1].append(elem[0:-1])\n",
    "    n = [len(D[0]), len(D[1])]\n",
    "    \n",
    "    X = data[indexes_X, 0:-1]\n",
    "    y = data[indexes_X, -1]\n",
    "    return D, X, y, n"
   ]
  },
  {
   "cell_type": "code",
   "execution_count": 676,
   "metadata": {},
   "outputs": [
    {
     "name": "stdout",
     "output_type": "stream",
     "text": [
      "n = [65, 35]\n",
      "Table for X:\n",
      " [[518. 139.]\n",
      " [117. 126.]]\n",
      "\n",
      "Table for D:\n",
      " [[58.  5.]\n",
      " [ 7. 30.]]\n",
      "P = (0.11379481147802639, 0.3203668545919762)\n"
     ]
    }
   ],
   "source": [
    "k = 100\n",
    "data = load_data()\n",
    "\n",
    "D, X, y, n = sort_data(data, k)\n",
    "print('n =', n)\n",
    "estimation_mu = get_estimation_mu(D)\n",
    "estimation_sigma = get_estimation_sigma(D, estimation_mu, n)\n",
    "\n",
    "table_X, table_D, p = do_research(estimation_mu, estimation_sigma, D, X, y-1, n)\n",
    "print('Table for X:\\n', table_X)\n",
    "print()\n",
    "print('Table for D:\\n', table_D)\n",
    "print('P =', p)"
   ]
  },
  {
   "cell_type": "code",
   "execution_count": null,
   "metadata": {},
   "outputs": [],
   "source": []
  }
 ],
 "metadata": {
  "kernelspec": {
   "display_name": "Python 3",
   "language": "python",
   "name": "python3"
  },
  "language_info": {
   "codemirror_mode": {
    "name": "ipython",
    "version": 3
   },
   "file_extension": ".py",
   "mimetype": "text/x-python",
   "name": "python",
   "nbconvert_exporter": "python",
   "pygments_lexer": "ipython3",
   "version": "3.8.3"
  }
 },
 "nbformat": 4,
 "nbformat_minor": 4
}
